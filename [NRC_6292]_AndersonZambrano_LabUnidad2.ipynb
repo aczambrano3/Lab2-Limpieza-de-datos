{
 "cells": [
  {
   "cell_type": "markdown",
   "id": "e1a3cb1b",
   "metadata": {},
   "source": [
    "<center><h1 style=\"color: blue\">Limpieza de Datos (ETL)</h1></center>"
   ]
  },
  {
   "cell_type": "markdown",
   "id": "87d5f65b",
   "metadata": {},
   "source": [
    "<center><h1 style=\"color: red\">Extracción</h1></center>"
   ]
  },
  {
   "cell_type": "markdown",
   "id": "47912340",
   "metadata": {},
   "source": [
    "### Carga y visualizacción de dataset"
   ]
  },
  {
   "cell_type": "code",
   "execution_count": 1,
   "id": "ff7881f2",
   "metadata": {},
   "outputs": [],
   "source": [
    "'''Importación de librerías necesarias para la manipulación de dataframes y limpieza de datos'''\n",
    "import pandas as pd\n",
    "from sklearn.impute import SimpleImputer\n",
    "import numpy as np"
   ]
  },
  {
   "cell_type": "code",
   "execution_count": 2,
   "id": "4ce45a3c",
   "metadata": {},
   "outputs": [
    {
     "data": {
      "text/html": [
       "<div>\n",
       "<style scoped>\n",
       "    .dataframe tbody tr th:only-of-type {\n",
       "        vertical-align: middle;\n",
       "    }\n",
       "\n",
       "    .dataframe tbody tr th {\n",
       "        vertical-align: top;\n",
       "    }\n",
       "\n",
       "    .dataframe thead th {\n",
       "        text-align: right;\n",
       "    }\n",
       "</style>\n",
       "<table border=\"1\" class=\"dataframe\">\n",
       "  <thead>\n",
       "    <tr style=\"text-align: right;\">\n",
       "      <th></th>\n",
       "      <th>CrimeId</th>\n",
       "      <th>OriginalCrimeTypeName</th>\n",
       "      <th>OffenseDate</th>\n",
       "      <th>CallTime</th>\n",
       "      <th>CallDateTime</th>\n",
       "      <th>Disposition</th>\n",
       "      <th>Address</th>\n",
       "      <th>City</th>\n",
       "      <th>State</th>\n",
       "      <th>AgencyId</th>\n",
       "      <th>Range</th>\n",
       "      <th>AddressType</th>\n",
       "    </tr>\n",
       "  </thead>\n",
       "  <tbody>\n",
       "    <tr>\n",
       "      <th>0</th>\n",
       "      <td>160903280</td>\n",
       "      <td>Assault / Battery</td>\n",
       "      <td>2016-03-30T00:00:00</td>\n",
       "      <td>18:42</td>\n",
       "      <td>2016-03-30T18:42:00</td>\n",
       "      <td>REP</td>\n",
       "      <td>100 Block Of Chilton Av</td>\n",
       "      <td>San Francisco</td>\n",
       "      <td>CA</td>\n",
       "      <td>1</td>\n",
       "      <td>NaN</td>\n",
       "      <td>Premise Address</td>\n",
       "    </tr>\n",
       "    <tr>\n",
       "      <th>1</th>\n",
       "      <td>160912272</td>\n",
       "      <td>Homeless Complaint</td>\n",
       "      <td>2016-03-31T00:00:00</td>\n",
       "      <td>15:31</td>\n",
       "      <td>2016-03-31T15:31:00</td>\n",
       "      <td>GOA</td>\n",
       "      <td>2300 Block Of Market St</td>\n",
       "      <td>San Francisco</td>\n",
       "      <td>CA</td>\n",
       "      <td>1</td>\n",
       "      <td>NaN</td>\n",
       "      <td>Premise Address</td>\n",
       "    </tr>\n",
       "    <tr>\n",
       "      <th>2</th>\n",
       "      <td>160912590</td>\n",
       "      <td>Susp Info</td>\n",
       "      <td>2016-03-31T00:00:00</td>\n",
       "      <td>16:49</td>\n",
       "      <td>2016-03-31T16:49:00</td>\n",
       "      <td>GOA</td>\n",
       "      <td>2300 Block Of Market St</td>\n",
       "      <td>San Francisco</td>\n",
       "      <td>CA</td>\n",
       "      <td>1</td>\n",
       "      <td>NaN</td>\n",
       "      <td>Premise Address</td>\n",
       "    </tr>\n",
       "    <tr>\n",
       "      <th>3</th>\n",
       "      <td>160912801</td>\n",
       "      <td>Report</td>\n",
       "      <td>2016-03-31T00:00:00</td>\n",
       "      <td>17:38</td>\n",
       "      <td>2016-03-31T17:38:00</td>\n",
       "      <td>GOA</td>\n",
       "      <td>500 Block Of 7th St</td>\n",
       "      <td>San Francisco</td>\n",
       "      <td>CA</td>\n",
       "      <td>1</td>\n",
       "      <td>NaN</td>\n",
       "      <td>Premise Address</td>\n",
       "    </tr>\n",
       "    <tr>\n",
       "      <th>4</th>\n",
       "      <td>160912811</td>\n",
       "      <td>594</td>\n",
       "      <td>2016-03-31T00:00:00</td>\n",
       "      <td>17:42</td>\n",
       "      <td>2016-03-31T17:42:00</td>\n",
       "      <td>REP</td>\n",
       "      <td>Beale St/bryant St</td>\n",
       "      <td>San Francisco</td>\n",
       "      <td>CA</td>\n",
       "      <td>1</td>\n",
       "      <td>NaN</td>\n",
       "      <td>Intersection</td>\n",
       "    </tr>\n",
       "    <tr>\n",
       "      <th>...</th>\n",
       "      <td>...</td>\n",
       "      <td>...</td>\n",
       "      <td>...</td>\n",
       "      <td>...</td>\n",
       "      <td>...</td>\n",
       "      <td>...</td>\n",
       "      <td>...</td>\n",
       "      <td>...</td>\n",
       "      <td>...</td>\n",
       "      <td>...</td>\n",
       "      <td>...</td>\n",
       "      <td>...</td>\n",
       "    </tr>\n",
       "    <tr>\n",
       "      <th>10046</th>\n",
       "      <td>160964210</td>\n",
       "      <td>Well Being Check</td>\n",
       "      <td>2016-04-05T00:00:00</td>\n",
       "      <td>23:38</td>\n",
       "      <td>2016-04-05T23:38:00</td>\n",
       "      <td>GOA</td>\n",
       "      <td>Hollister Av/hawes St</td>\n",
       "      <td>San Francisco</td>\n",
       "      <td>CA</td>\n",
       "      <td>1</td>\n",
       "      <td>NaN</td>\n",
       "      <td>Intersection</td>\n",
       "    </tr>\n",
       "    <tr>\n",
       "      <th>10047</th>\n",
       "      <td>160964216</td>\n",
       "      <td>Traffic Stop</td>\n",
       "      <td>2016-04-05T00:00:00</td>\n",
       "      <td>23:43</td>\n",
       "      <td>2016-04-05T23:43:00</td>\n",
       "      <td>ADV</td>\n",
       "      <td>California St/mason St</td>\n",
       "      <td>San Francisco</td>\n",
       "      <td>CA</td>\n",
       "      <td>1</td>\n",
       "      <td>NaN</td>\n",
       "      <td>Intersection</td>\n",
       "    </tr>\n",
       "    <tr>\n",
       "      <th>10048</th>\n",
       "      <td>160964227</td>\n",
       "      <td>Traffic Stop</td>\n",
       "      <td>2016-04-05T00:00:00</td>\n",
       "      <td>23:48</td>\n",
       "      <td>2016-04-05T23:48:00</td>\n",
       "      <td>CIT</td>\n",
       "      <td>Rosella Ct/onondaga Av</td>\n",
       "      <td>San Francisco</td>\n",
       "      <td>CA</td>\n",
       "      <td>1</td>\n",
       "      <td>NaN</td>\n",
       "      <td>Intersection</td>\n",
       "    </tr>\n",
       "    <tr>\n",
       "      <th>10049</th>\n",
       "      <td>160964229</td>\n",
       "      <td>Passing Call</td>\n",
       "      <td>2016-04-05T00:00:00</td>\n",
       "      <td>23:48</td>\n",
       "      <td>2016-04-05T23:48:00</td>\n",
       "      <td>Not recorded</td>\n",
       "      <td>0 Blk Herbst Rd</td>\n",
       "      <td>San Francisco</td>\n",
       "      <td>CA</td>\n",
       "      <td>1</td>\n",
       "      <td>NaN</td>\n",
       "      <td>Geo-Override</td>\n",
       "    </tr>\n",
       "    <tr>\n",
       "      <th>10050</th>\n",
       "      <td>160964249</td>\n",
       "      <td>Traffic Stop</td>\n",
       "      <td>2016-04-05T00:00:00</td>\n",
       "      <td>23:54</td>\n",
       "      <td>2016-04-05T23:54:00</td>\n",
       "      <td>ADV</td>\n",
       "      <td>Grant Av/geary St</td>\n",
       "      <td>San Francisco</td>\n",
       "      <td>CA</td>\n",
       "      <td>1</td>\n",
       "      <td>NaN</td>\n",
       "      <td>Intersection</td>\n",
       "    </tr>\n",
       "  </tbody>\n",
       "</table>\n",
       "<p>10051 rows × 12 columns</p>\n",
       "</div>"
      ],
      "text/plain": [
       "         CrimeId OriginalCrimeTypeName          OffenseDate CallTime  \\\n",
       "0      160903280     Assault / Battery  2016-03-30T00:00:00    18:42   \n",
       "1      160912272    Homeless Complaint  2016-03-31T00:00:00    15:31   \n",
       "2      160912590             Susp Info  2016-03-31T00:00:00    16:49   \n",
       "3      160912801                Report  2016-03-31T00:00:00    17:38   \n",
       "4      160912811                   594  2016-03-31T00:00:00    17:42   \n",
       "...          ...                   ...                  ...      ...   \n",
       "10046  160964210      Well Being Check  2016-04-05T00:00:00    23:38   \n",
       "10047  160964216          Traffic Stop  2016-04-05T00:00:00    23:43   \n",
       "10048  160964227          Traffic Stop  2016-04-05T00:00:00    23:48   \n",
       "10049  160964229          Passing Call  2016-04-05T00:00:00    23:48   \n",
       "10050  160964249          Traffic Stop  2016-04-05T00:00:00    23:54   \n",
       "\n",
       "              CallDateTime   Disposition                  Address  \\\n",
       "0      2016-03-30T18:42:00           REP  100 Block Of Chilton Av   \n",
       "1      2016-03-31T15:31:00           GOA  2300 Block Of Market St   \n",
       "2      2016-03-31T16:49:00           GOA  2300 Block Of Market St   \n",
       "3      2016-03-31T17:38:00           GOA      500 Block Of 7th St   \n",
       "4      2016-03-31T17:42:00           REP       Beale St/bryant St   \n",
       "...                    ...           ...                      ...   \n",
       "10046  2016-04-05T23:38:00           GOA    Hollister Av/hawes St   \n",
       "10047  2016-04-05T23:43:00           ADV   California St/mason St   \n",
       "10048  2016-04-05T23:48:00           CIT   Rosella Ct/onondaga Av   \n",
       "10049  2016-04-05T23:48:00  Not recorded          0 Blk Herbst Rd   \n",
       "10050  2016-04-05T23:54:00           ADV        Grant Av/geary St   \n",
       "\n",
       "                City State AgencyId  Range      AddressType  \n",
       "0      San Francisco    CA        1    NaN  Premise Address  \n",
       "1      San Francisco    CA        1    NaN  Premise Address  \n",
       "2      San Francisco    CA        1    NaN  Premise Address  \n",
       "3      San Francisco    CA        1    NaN  Premise Address  \n",
       "4      San Francisco    CA        1    NaN     Intersection  \n",
       "...              ...   ...      ...    ...              ...  \n",
       "10046  San Francisco    CA        1    NaN     Intersection  \n",
       "10047  San Francisco    CA        1    NaN     Intersection  \n",
       "10048  San Francisco    CA        1    NaN     Intersection  \n",
       "10049  San Francisco    CA        1    NaN     Geo-Override  \n",
       "10050  San Francisco    CA        1    NaN     Intersection  \n",
       "\n",
       "[10051 rows x 12 columns]"
      ]
     },
     "execution_count": 2,
     "metadata": {},
     "output_type": "execute_result"
    }
   ],
   "source": [
    "'''Carga y visualización del dataset que se va a utilizar'''\n",
    "dataCSV = pd.read_csv('data_act_01.csv', sep=\";\")\n",
    "dataCSV"
   ]
  },
  {
   "cell_type": "markdown",
   "id": "0295a97d",
   "metadata": {},
   "source": [
    "<center><h1 style=\"color: red\">Transformación</h1></center>"
   ]
  },
  {
   "cell_type": "markdown",
   "id": "a2d7cfeb",
   "metadata": {},
   "source": [
    "## Visualización de datos nulos y tipos de datos del dataset"
   ]
  },
  {
   "cell_type": "code",
   "execution_count": 3,
   "id": "41b58129",
   "metadata": {},
   "outputs": [
    {
     "data": {
      "text/plain": [
       "CrimeId                      0\n",
       "OriginalCrimeTypeName        0\n",
       "OffenseDate                  0\n",
       "CallTime                     0\n",
       "CallDateTime                 0\n",
       "Disposition                  0\n",
       "Address                      0\n",
       "City                       321\n",
       "State                        3\n",
       "AgencyId                     0\n",
       "Range                    10051\n",
       "AddressType                  0\n",
       "dtype: int64"
      ]
     },
     "execution_count": 3,
     "metadata": {},
     "output_type": "execute_result"
    }
   ],
   "source": [
    "'''Verificación de todos los valores nulos del dataset'''\n",
    "dataCSV.isnull().sum()"
   ]
  },
  {
   "cell_type": "code",
   "execution_count": 4,
   "id": "d3143645",
   "metadata": {},
   "outputs": [
    {
     "data": {
      "text/plain": [
       "CrimeId                    int64\n",
       "OriginalCrimeTypeName     object\n",
       "OffenseDate               object\n",
       "CallTime                  object\n",
       "CallDateTime              object\n",
       "Disposition               object\n",
       "Address                   object\n",
       "City                      object\n",
       "State                     object\n",
       "AgencyId                  object\n",
       "Range                    float64\n",
       "AddressType               object\n",
       "dtype: object"
      ]
     },
     "execution_count": 4,
     "metadata": {},
     "output_type": "execute_result"
    }
   ],
   "source": [
    "'''Visualización del tipo de datos que tenemos en el dataset'''\n",
    "dataCSV.dtypes"
   ]
  },
  {
   "cell_type": "markdown",
   "id": "9ee721e0",
   "metadata": {},
   "source": [
    "## Visualización de los datos existentes en cada columna"
   ]
  },
  {
   "cell_type": "code",
   "execution_count": 5,
   "id": "cc60b782",
   "metadata": {},
   "outputs": [
    {
     "data": {
      "text/plain": [
       "array(['Assault / Battery', 'Homeless Complaint', 'Susp Info', 'Report',\n",
       "       '594', \"Ref'd\", 'Agg Assault / Adw Dv', 'Encampment', 'Burglary',\n",
       "       'Suspicious Person', 'Ip', 'Arrest Made', 'Tent',\n",
       "       'Intoxicated Person', 'Guitar', 'H&r Veh Accident', 'Music',\n",
       "       'Person Dumping', 'Vandalism', 'Petty Theft', '415',\n",
       "       'Noise Nuisance', 'Fraud', 'Rep', 'Meet W/citizen',\n",
       "       'Prisoner Transport', 'Poss', 'Trespasser', 'Stolen Vehicle',\n",
       "       'Fight No Weapon', 'Check For Ped', 'Juvenile Disturbance',\n",
       "       'Party', 'Lltd', 'Robbery', '601', '500e', '913', 'Traffic Stop',\n",
       "       '909', 'Person W/gun', 'Suspicious Vehicle', 'Fight No Weapon Dv',\n",
       "       'Audible Alarm', 'Parking', 'Pay', 'Silent Holdup Alarm',\n",
       "       'Passing Call', 'Sleeper', 'Family', 'Thumping', 'Loud Music',\n",
       "       '916', 'Att', 'Threats / Harassment', 'Boombox',\n",
       "       'Traf Violation Tow', 'Dw', 'Bar Check', 'Suicide Attempt', 'Susp',\n",
       "       'Crosswalk', 'Casing/917', 'Wireless-Drop', 'Uc Hastings/405',\n",
       "       'Bomb Threat', 'Mentally Disturbed', 'Silent Alarm',\n",
       "       'Traf Violation Cite', 'Person Breaking In', 'Complaint Unkn',\n",
       "       '811', 'Casing', 'Prowler', 'Shots Fired', 'Shooting', '915',\n",
       "       'Citizen Arrest', '919', '417', 'Person Screaming',\n",
       "       'Well Being Check', '917', '917/811', 'Jo/bolo',\n",
       "       'Wanted Vehicle / Sub', 'Ug', 'Poss Ip', 'Hold-Up', '531', 'Fare',\n",
       "       'Construction', 'Drugs', 'Campers', 'Poss/601',\n",
       "       'Assault / Battery Dv', 'X', 'Return', 'Rtl', 'Verbal', '518',\n",
       "       'Meet W/officer', '488', 'Awol', 'Strongarm Robbery', 'Aggressive',\n",
       "       'Male', \"Veh's\", 'Rz', 'Sw', 'Encampent', 'Loitering',\n",
       "       'Muni Inspection', 'Auto Boost / Strip', 'Jo', 'Dw/rz', '22500e',\n",
       "       'Sleepers', 'Fire', 'Mal', 'Trc 7.2.46', 'Reckless', 'Camper',\n",
       "       '22500f', 'City Veh', 'Openline', 'Indecent Exposure',\n",
       "       'Injury Veh Accident', 'Rept', 'Cw', '851', 'Prem Check',\n",
       "       'Person W/knife', 'Ringing Doorbell', 'Veh Accident',\n",
       "       'Sleeper 601', 'I/p', 'Video', 'Unoccupied', 'R/o Violation',\n",
       "       'Psych Eval / Hold', 'Missing Adult', 'Vehicle Alarm',\n",
       "       'Person Down', '418', 'Found Drugs', 'Citizen Standby', 'Yelling',\n",
       "       '7.2.41', 'Lltn', '7.2.45', 'Nabor', 'X 594', 'Glass Bottles',\n",
       "       'Missing Juvenile', 'Sexual Assault Juve', '852', 'Escalating',\n",
       "       'Demo / Protest', 'Death / Coroner', 'Jjo', 'Vc21113a',\n",
       "       'Aggressive 601', 'Sexual Assault Adult', '601 Ug',\n",
       "       'Recover Missing Veh', 'Npat', 'Aggr Soliciting', '7.2.46',\n",
       "       'Dog Barking', '800', 'Grand Theft', 'Rz/dw',\n",
       "       'H&r Injury Accident', 'Pepperspray', '22500e/22500b', 'Vendors',\n",
       "       'Agg Assault / Adw', 'Crack', '905/muni', 'Opp', '311',\n",
       "       'Stolen Property', 'Poss Caser', '22500h', '22514',\n",
       "       'Senile Person', '311 X', 'Selling Foods', 'Muni', 'Elevator',\n",
       "       'Veh', 'Ll/td', '221', 'Static', 'Road Rage', 'W/a Hammer',\n",
       "       '221 Poss', 'At Risk', 'Drop', 'Juve Beyond Control', '22500e/.25',\n",
       "       'Squattters', 'Illegal Vendor', '7.2.25', 'Parking Space',\n",
       "       'Susp Poss', '22500a', '913/child', 'Dancer', '500f', '500h',\n",
       "       '7.2.28', 'Drinking', '240/spit', 'Poss 5150', 'Ped',\n",
       "       'Pepper Spray', '222', '487', '368ca Poss', '470', '22500i',\n",
       "       'Panic Alarm', 'Drugs Needles', '911 Hu', 'Purse Snatch',\n",
       "       '212 Poss', '7.2.26', 'Custody', '7.2.27', '22500eal',\n",
       "       'Resisting Arrest', 'Mc', 'Dirtbikes', 'Gamblers', 'Drugs/dealing',\n",
       "       'Drunk Driver', 'Ret', 'Spitter', 'Prostitute/solicite',\n",
       "       'Aided Case', '22500f/cw', 'Suspect', '518/muni', '22500b',\n",
       "       'Barking', '7.2.32', 'Bat', 'Dirtbikes/586', '213', 'Encampments',\n",
       "       '7.2.38', '7.2.40', 'Ll/ll', 'Adv', 'Chp', '911-Drop', 'Hammer',\n",
       "       'Open Line', 'Physical', 'Dog', '915 Sleeper', '910',\n",
       "       'Pay Dispute', '245', 'Keys', 'Nabors', '650', 'Opportunist',\n",
       "       'Live Band', 'Recorder', 'Female', 'Poss 152', 'Poss Casing',\n",
       "       '915 Encampment', 'Tx To Chp', 'Party Yelling', '852 Poss',\n",
       "       \"Juv's\", '586/poss 588', '5150', 'At The Atm', 'Male/poss Hazard',\n",
       "       'Heated', 'Adv To 0123', 'Busn', 'Dw Tow', 'Band', 'Kidnapping',\n",
       "       'Poss Attempt', 'Driveway', 'Threats Dv', '415 Music',\n",
       "       'Att/240 Jo', '5150 Poss', 'Stick', 'Spike', '647b Poss', 'Alarm',\n",
       "       'Sideshow', '22502a', 'Taxi Zone', 'Graffiti Vandalism', '601 Rtl',\n",
       "       'Living', 'Roof', 'Dp', '22500l', '801 Poss', 'J/o', 'Gz', 'Caser',\n",
       "       'Wz', '519', 'Poss Escalating', 'Sign', 'Ambulance', 'Drops//busn',\n",
       "       'Suspects', '811 Male', 'Camp', 'Attemp', 'Drinkers', 'Uwg', 'Lp',\n",
       "       'H&r', 'Poss 207', 'Tree Bark', 'Poss 800', 'Vendor', 'Casing/852',\n",
       "       'Ro Viol', '519 Poss', '9915', 'Pups', '518hr', 'Reckless Mcs',\n",
       "       '586', '800attempt', 'Follow Up', 'Chop Shop', 'Paydispute',\n",
       "       'Illegal Gambling', 'Rep Identity Theft', '225800e',\n",
       "       '852 Occupied', '594 Poss', 'Busn/voip', 'Roadrage', '252500e',\n",
       "       '420 Drugs', '912', 'Sudrugs', 'Fi**expedite**', 'Rtl/aggressive',\n",
       "       'Ro Violation', 'Tow Truck', '800 Poss', '*909*', '22500',\n",
       "       '152 Jo', '7.2.25/2250e', 'Agressive', 'Pay Dis', 'Rtl Cab',\n",
       "       'Drummer', '22500f/7.2.70', 'Person W/knife Dv', 'Hu', '800  Poss',\n",
       "       '152 Poss', 'Elderly X', 'Hold Up', 'Chp 1030 Veh', 'Sagressive',\n",
       "       'Bart', '240 Poss', 'Illegal Vendors', 'Loud Party', 'Stabbing',\n",
       "       'Roomate', 'Fireworks', 'Property', 'Iph', 'Bottles', 'Cane',\n",
       "       'Get Inside The Bldg', 'Music/909', 'Panic', '601rtl',\n",
       "       'Vandalism Dv', 'Neighbors', 'Open', 'Poss/910prem Check',\n",
       "       'Stattic', '594 Ip', '601uwg', '911', 'Poss 519', 'Making A Mess',\n",
       "       'Campers W/bikes', 'Pos Jumper', 'Doorway/917', 'Camping',\n",
       "       '**Tazer**', 'Loading Dock', 'Bl', 'Naked', 'Attempt',\n",
       "       'Explosive Found', 'Car Campers', '915 Campers',\n",
       "       'Poss Unreported 1030', 'Subj', 'Fp', 'Gambling', 'Wild',\n",
       "       '5150 Hold Poss', '419', '7.2.41/22500f', 'Shooting Up',\n",
       "       'St Vendors', '22500e/rz', 'Person Break In Dv', 'Veh W/open Door',\n",
       "       '22507.8a', 'Poss 801', '901 For 909', 'Unocc', 'Samurai',\n",
       "       '911 Open', 'Poss/851 Attemp Poss', 'Drugdealer', \"Mc's\", 'S',\n",
       "       'Rp', '459', 'Atc', '915s', 'Rtl/811', '420', 'Amplified',\n",
       "       'Tra7.2.37', 'Casers', 'Jump', 'Dismember Body Part', 'Poss/420',\n",
       "       '500b', '7.2.25/22500e', 'Busy', '528 Poss', 'Poss Walk Thru',\n",
       "       'Mace', 'Child', 'Loud Bass', 'Spit', 'Prem', 'Roof Squatters',\n",
       "       '.25/500e', '910 X', 'Drug Use', 'In Svc/ On Foot', 'Explosion',\n",
       "       'Scratch', '916/music', 'Return Call', 'Verbals', '100v',\n",
       "       'Loud Talking', '601/415', 'Hot', 'Cassing', 'Poss 488', 'A',\n",
       "       '152', '601/311', 'Trc 7.2.45', 'Cz', 'Silent', 'Poss Hazard',\n",
       "       '502a', '801 Threats', 'Home Invasion', '911 Drop', 'Tz', 'Npa',\n",
       "       'Toilet', 'Dropped Call', '459 Attempt', 'Ucpd', 'Jumper',\n",
       "       'Dog Bite', '909x', 'Attempt Report', 'Tro', 'Stepping On Plants',\n",
       "       'Muni Alarm', 'Ld', '240/602 Suspect', 'Poss Susp', '311x/poss800',\n",
       "       'Dogs Barking', 'Panhandler W/pitbull', 'Video Surveillence',\n",
       "       'H/r', '221/222 Poss', 'Areport', 'Protestors', '470 Poss',\n",
       "       'Broken Window', '`Drugs', 'Haz', 'House', '418rm', '240', '21211',\n",
       "       'Att Jo', \"Loud Subj's\", '811 Poss', '601/488', '7.2.70', 'Resd',\n",
       "       'Maced', '801', 'Suatters', '22514/500b', '212', '911 Open Line',\n",
       "       'Recycling', 'Park Ranger', 'Curb', 'Pills', 'Ll/ Tenant',\n",
       "       '219/601', 'Ifo', '911 Hu Call', '920 Rtl', 'Poss Att', 'Att Only',\n",
       "       'Ams', '***901 Req***', 'Drugs/915', 'Rpt', 'Children', '500e/rz',\n",
       "       'Vehicle', 'Ug Rtl', '601/family', 'Death', 'Att Susp', '9909',\n",
       "       '2 Reps', 'Vending', 'Drp', 'Brewing/pay Dispute', 'Skateboarders',\n",
       "       'Sonitrol', 'Wreckless Driver', '148', 'Bicylist', '852 Casing',\n",
       "       'Nabo', 'R.o. Violation', '910 Poss', '22500e/500h', 'Pay Disp',\n",
       "       '22654e', 'Brewing', '.52', 'Phys', '222 Att', 'Wireless-Open',\n",
       "       'Adv To Co A', 'Wireless-H/u'], dtype=object)"
      ]
     },
     "execution_count": 5,
     "metadata": {},
     "output_type": "execute_result"
    }
   ],
   "source": [
    "'''Visualización de valores únicos en la columna OriginalCrimeTypeName'''\n",
    "dataCSV.OriginalCrimeTypeName.unique()"
   ]
  },
  {
   "cell_type": "code",
   "execution_count": 6,
   "id": "7e647b17",
   "metadata": {},
   "outputs": [
    {
     "data": {
      "text/plain": [
       "array(['2016-03-30T00:00:00', '2016-03-31T00:00:00',\n",
       "       '2016-04-01T00:00:00', '2016-04-02T00:00:00',\n",
       "       '2016-04-03T00:00:00', '2016-04-04T00:00:00',\n",
       "       '2013-04-04T00:00:00', '2025-04-04T00:00:00',\n",
       "       '2016-04-05T00:00:00'], dtype=object)"
      ]
     },
     "execution_count": 6,
     "metadata": {},
     "output_type": "execute_result"
    }
   ],
   "source": [
    "'''Visualización de valores únicos en la columna OffenseDate'''\n",
    "dataCSV.OffenseDate.unique()"
   ]
  },
  {
   "cell_type": "code",
   "execution_count": 7,
   "id": "a1e47927",
   "metadata": {},
   "outputs": [
    {
     "data": {
      "text/plain": [
       "array(['18:42', '15:31', '16:49', ..., '6:12', '6:33', '6:55'],\n",
       "      dtype=object)"
      ]
     },
     "execution_count": 7,
     "metadata": {},
     "output_type": "execute_result"
    }
   ],
   "source": [
    "'''Visualización de valores únicos en la columna CallDateTime'''\n",
    "dataCSV.CallTime.unique()"
   ]
  },
  {
   "cell_type": "code",
   "execution_count": 8,
   "id": "ad72cde3",
   "metadata": {},
   "outputs": [
    {
     "data": {
      "text/plain": [
       "array(['2016-03-30T18:42:00', '2016-03-31T15:31:00',\n",
       "       '2016-03-31T16:49:00', ..., '2016-04-05T23:43:00',\n",
       "       '2016-04-05T23:48:00', '2016-04-05T23:54:00'], dtype=object)"
      ]
     },
     "execution_count": 8,
     "metadata": {},
     "output_type": "execute_result"
    }
   ],
   "source": [
    "'''Visualización de valores únicos en la columna CallDateTime'''\n",
    "dataCSV.CallDateTime.unique()"
   ]
  },
  {
   "cell_type": "code",
   "execution_count": 9,
   "id": "3fd24d7d",
   "metadata": {},
   "outputs": [
    {
     "data": {
      "text/plain": [
       "array(['REP', 'GOA', 'ADV', 'HAN', 'ND', 'ARR', 'UTL', 'Not recorded',\n",
       "       'CIT', 'PAS', 'ABA', 'NOM', 'ADM', 'CAN', 'INC', 'NCR', '22',\n",
       "       'CRT', 'SFD'], dtype=object)"
      ]
     },
     "execution_count": 9,
     "metadata": {},
     "output_type": "execute_result"
    }
   ],
   "source": [
    "'''Visualización de valores únicos en la columna Disposition'''\n",
    "dataCSV.Disposition.unique()"
   ]
  },
  {
   "cell_type": "code",
   "execution_count": 10,
   "id": "c593dc0e",
   "metadata": {},
   "outputs": [
    {
     "data": {
      "text/plain": [
       "Disposition\n",
       "22                77\n",
       "ABA               97\n",
       "ADM               48\n",
       "ADV             1142\n",
       "ARR               65\n",
       "CAN              353\n",
       "CIT             1425\n",
       "CRT                2\n",
       "GOA             1273\n",
       "HAN             2820\n",
       "INC               17\n",
       "NCR               82\n",
       "ND               427\n",
       "NOM              324\n",
       "Not recorded     543\n",
       "PAS              170\n",
       "REP              800\n",
       "SFD                1\n",
       "UTL              385\n",
       "dtype: int64"
      ]
     },
     "execution_count": 10,
     "metadata": {},
     "output_type": "execute_result"
    }
   ],
   "source": [
    "'''Visualización de cantidad de veces que se repite cada valor en la columna Disposition'''\n",
    "dataCSV.groupby('Disposition').size()"
   ]
  },
  {
   "cell_type": "code",
   "execution_count": 11,
   "id": "a3a5b919",
   "metadata": {},
   "outputs": [
    {
     "data": {
      "text/plain": [
       "array(['100 Block Of Chilton Av', '2300 Block Of Market St',\n",
       "       '500 Block Of 7th St', ..., 'Hollister Av/hawes St',\n",
       "       'Rosella Ct/onondaga Av', '0 Blk Herbst Rd'], dtype=object)"
      ]
     },
     "execution_count": 11,
     "metadata": {},
     "output_type": "execute_result"
    }
   ],
   "source": [
    "'''Visualización de valores únicos en la columna Address'''\n",
    "dataCSV.Address.unique()"
   ]
  },
  {
   "cell_type": "code",
   "execution_count": 12,
   "id": "8afc8f09",
   "metadata": {},
   "outputs": [
    {
     "data": {
      "text/plain": [
       "array(['San Francisco', nan, 'Daly City', 'Treasure Isla', 'Yerba Buena',\n",
       "       'SAN FRANCISCO', 'Presidio', ' S', 'Brisbane'], dtype=object)"
      ]
     },
     "execution_count": 12,
     "metadata": {},
     "output_type": "execute_result"
    }
   ],
   "source": [
    "'''Visualización de valores únicos en la columna City'''\n",
    "dataCSV.City.unique()"
   ]
  },
  {
   "cell_type": "code",
   "execution_count": 13,
   "id": "a4b23f84",
   "metadata": {},
   "outputs": [
    {
     "data": {
      "text/plain": [
       "City\n",
       " S                  1\n",
       "Brisbane            1\n",
       "Daly City           5\n",
       "Presidio            3\n",
       "SAN FRANCISCO       1\n",
       "San Francisco    9665\n",
       "Treasure Isla      51\n",
       "Yerba Buena         3\n",
       "dtype: int64"
      ]
     },
     "execution_count": 13,
     "metadata": {},
     "output_type": "execute_result"
    }
   ],
   "source": [
    "'''Visualización de cantidad de veces que se repite cada valor en la columna City'''\n",
    "dataCSV.groupby('City').size()"
   ]
  },
  {
   "cell_type": "code",
   "execution_count": 14,
   "id": "590b1303",
   "metadata": {},
   "outputs": [
    {
     "data": {
      "text/plain": [
       "array(['CA', nan], dtype=object)"
      ]
     },
     "execution_count": 14,
     "metadata": {},
     "output_type": "execute_result"
    }
   ],
   "source": [
    "'''Visualización de valores únicos en la columna State'''\n",
    "dataCSV.State.unique()"
   ]
  },
  {
   "cell_type": "code",
   "execution_count": 15,
   "id": "51af952d",
   "metadata": {},
   "outputs": [
    {
     "data": {
      "text/plain": [
       "State\n",
       "CA    10048\n",
       "dtype: int64"
      ]
     },
     "execution_count": 15,
     "metadata": {},
     "output_type": "execute_result"
    }
   ],
   "source": [
    "'''Visualización de cantidad de veces que se repite cada valor en la columna State'''\n",
    "dataCSV.groupby('State').size()"
   ]
  },
  {
   "cell_type": "code",
   "execution_count": 16,
   "id": "5e636dfe",
   "metadata": {},
   "outputs": [
    {
     "data": {
      "text/plain": [
       "array(['Premise Address', 'Intersection', 'Common Location',\n",
       "       'Geo-Override', 'Intersectioon', '1'], dtype=object)"
      ]
     },
     "execution_count": 16,
     "metadata": {},
     "output_type": "execute_result"
    }
   ],
   "source": [
    "'''Visualización de valores únicos en la columna AddressType'''\n",
    "dataCSV.AddressType.unique()"
   ]
  },
  {
   "cell_type": "code",
   "execution_count": 17,
   "id": "d66769f1",
   "metadata": {},
   "outputs": [
    {
     "data": {
      "text/plain": [
       "AddressType\n",
       "1                     3\n",
       "Common Location     818\n",
       "Geo-Override        469\n",
       "Intersection       3701\n",
       "Intersectioon         1\n",
       "Premise Address    5059\n",
       "dtype: int64"
      ]
     },
     "execution_count": 17,
     "metadata": {},
     "output_type": "execute_result"
    }
   ],
   "source": [
    "'''Verificamos que los cambios se hayan realizado en la columna AddressType'''\n",
    "dataCSV.groupby('AddressType').size()"
   ]
  },
  {
   "cell_type": "code",
   "execution_count": 18,
   "id": "7d13901e",
   "metadata": {},
   "outputs": [
    {
     "data": {
      "text/plain": [
       "array(['1', 'CA'], dtype=object)"
      ]
     },
     "execution_count": 18,
     "metadata": {},
     "output_type": "execute_result"
    }
   ],
   "source": [
    "'''Visualización de valores únicos en la columna AgencyId'''\n",
    "dataCSV.AgencyId.unique()"
   ]
  },
  {
   "cell_type": "code",
   "execution_count": 19,
   "id": "db8562f4",
   "metadata": {},
   "outputs": [
    {
     "data": {
      "text/plain": [
       "AgencyId\n",
       "1     10048\n",
       "CA        3\n",
       "dtype: int64"
      ]
     },
     "execution_count": 19,
     "metadata": {},
     "output_type": "execute_result"
    }
   ],
   "source": [
    "'''Visualización de cantidad de veces que se repite cada valor en la columna AgencyId'''\n",
    "dataCSV.groupby('AgencyId').size()"
   ]
  },
  {
   "cell_type": "markdown",
   "id": "53cae35a",
   "metadata": {},
   "source": [
    "# Limpieza de Datos"
   ]
  },
  {
   "cell_type": "markdown",
   "id": "e3cd7bbb",
   "metadata": {},
   "source": [
    "### Eliminación de columnas innecesarias"
   ]
  },
  {
   "cell_type": "code",
   "execution_count": 20,
   "id": "73922b72",
   "metadata": {},
   "outputs": [
    {
     "data": {
      "text/html": [
       "<div>\n",
       "<style scoped>\n",
       "    .dataframe tbody tr th:only-of-type {\n",
       "        vertical-align: middle;\n",
       "    }\n",
       "\n",
       "    .dataframe tbody tr th {\n",
       "        vertical-align: top;\n",
       "    }\n",
       "\n",
       "    .dataframe thead th {\n",
       "        text-align: right;\n",
       "    }\n",
       "</style>\n",
       "<table border=\"1\" class=\"dataframe\">\n",
       "  <thead>\n",
       "    <tr style=\"text-align: right;\">\n",
       "      <th></th>\n",
       "      <th>CrimeId</th>\n",
       "      <th>OriginalCrimeTypeName</th>\n",
       "      <th>OffenseDate</th>\n",
       "      <th>CallDateTime</th>\n",
       "      <th>Disposition</th>\n",
       "      <th>Address</th>\n",
       "      <th>City</th>\n",
       "      <th>State</th>\n",
       "      <th>AgencyId</th>\n",
       "      <th>AddressType</th>\n",
       "    </tr>\n",
       "  </thead>\n",
       "  <tbody>\n",
       "    <tr>\n",
       "      <th>0</th>\n",
       "      <td>160903280</td>\n",
       "      <td>Assault / Battery</td>\n",
       "      <td>2016-03-30T00:00:00</td>\n",
       "      <td>2016-03-30T18:42:00</td>\n",
       "      <td>REP</td>\n",
       "      <td>100 Block Of Chilton Av</td>\n",
       "      <td>San Francisco</td>\n",
       "      <td>CA</td>\n",
       "      <td>1</td>\n",
       "      <td>Premise Address</td>\n",
       "    </tr>\n",
       "    <tr>\n",
       "      <th>1</th>\n",
       "      <td>160912272</td>\n",
       "      <td>Homeless Complaint</td>\n",
       "      <td>2016-03-31T00:00:00</td>\n",
       "      <td>2016-03-31T15:31:00</td>\n",
       "      <td>GOA</td>\n",
       "      <td>2300 Block Of Market St</td>\n",
       "      <td>San Francisco</td>\n",
       "      <td>CA</td>\n",
       "      <td>1</td>\n",
       "      <td>Premise Address</td>\n",
       "    </tr>\n",
       "    <tr>\n",
       "      <th>2</th>\n",
       "      <td>160912590</td>\n",
       "      <td>Susp Info</td>\n",
       "      <td>2016-03-31T00:00:00</td>\n",
       "      <td>2016-03-31T16:49:00</td>\n",
       "      <td>GOA</td>\n",
       "      <td>2300 Block Of Market St</td>\n",
       "      <td>San Francisco</td>\n",
       "      <td>CA</td>\n",
       "      <td>1</td>\n",
       "      <td>Premise Address</td>\n",
       "    </tr>\n",
       "    <tr>\n",
       "      <th>3</th>\n",
       "      <td>160912801</td>\n",
       "      <td>Report</td>\n",
       "      <td>2016-03-31T00:00:00</td>\n",
       "      <td>2016-03-31T17:38:00</td>\n",
       "      <td>GOA</td>\n",
       "      <td>500 Block Of 7th St</td>\n",
       "      <td>San Francisco</td>\n",
       "      <td>CA</td>\n",
       "      <td>1</td>\n",
       "      <td>Premise Address</td>\n",
       "    </tr>\n",
       "    <tr>\n",
       "      <th>4</th>\n",
       "      <td>160912811</td>\n",
       "      <td>594</td>\n",
       "      <td>2016-03-31T00:00:00</td>\n",
       "      <td>2016-03-31T17:42:00</td>\n",
       "      <td>REP</td>\n",
       "      <td>Beale St/bryant St</td>\n",
       "      <td>San Francisco</td>\n",
       "      <td>CA</td>\n",
       "      <td>1</td>\n",
       "      <td>Intersection</td>\n",
       "    </tr>\n",
       "    <tr>\n",
       "      <th>...</th>\n",
       "      <td>...</td>\n",
       "      <td>...</td>\n",
       "      <td>...</td>\n",
       "      <td>...</td>\n",
       "      <td>...</td>\n",
       "      <td>...</td>\n",
       "      <td>...</td>\n",
       "      <td>...</td>\n",
       "      <td>...</td>\n",
       "      <td>...</td>\n",
       "    </tr>\n",
       "    <tr>\n",
       "      <th>10046</th>\n",
       "      <td>160964210</td>\n",
       "      <td>Well Being Check</td>\n",
       "      <td>2016-04-05T00:00:00</td>\n",
       "      <td>2016-04-05T23:38:00</td>\n",
       "      <td>GOA</td>\n",
       "      <td>Hollister Av/hawes St</td>\n",
       "      <td>San Francisco</td>\n",
       "      <td>CA</td>\n",
       "      <td>1</td>\n",
       "      <td>Intersection</td>\n",
       "    </tr>\n",
       "    <tr>\n",
       "      <th>10047</th>\n",
       "      <td>160964216</td>\n",
       "      <td>Traffic Stop</td>\n",
       "      <td>2016-04-05T00:00:00</td>\n",
       "      <td>2016-04-05T23:43:00</td>\n",
       "      <td>ADV</td>\n",
       "      <td>California St/mason St</td>\n",
       "      <td>San Francisco</td>\n",
       "      <td>CA</td>\n",
       "      <td>1</td>\n",
       "      <td>Intersection</td>\n",
       "    </tr>\n",
       "    <tr>\n",
       "      <th>10048</th>\n",
       "      <td>160964227</td>\n",
       "      <td>Traffic Stop</td>\n",
       "      <td>2016-04-05T00:00:00</td>\n",
       "      <td>2016-04-05T23:48:00</td>\n",
       "      <td>CIT</td>\n",
       "      <td>Rosella Ct/onondaga Av</td>\n",
       "      <td>San Francisco</td>\n",
       "      <td>CA</td>\n",
       "      <td>1</td>\n",
       "      <td>Intersection</td>\n",
       "    </tr>\n",
       "    <tr>\n",
       "      <th>10049</th>\n",
       "      <td>160964229</td>\n",
       "      <td>Passing Call</td>\n",
       "      <td>2016-04-05T00:00:00</td>\n",
       "      <td>2016-04-05T23:48:00</td>\n",
       "      <td>Not recorded</td>\n",
       "      <td>0 Blk Herbst Rd</td>\n",
       "      <td>San Francisco</td>\n",
       "      <td>CA</td>\n",
       "      <td>1</td>\n",
       "      <td>Geo-Override</td>\n",
       "    </tr>\n",
       "    <tr>\n",
       "      <th>10050</th>\n",
       "      <td>160964249</td>\n",
       "      <td>Traffic Stop</td>\n",
       "      <td>2016-04-05T00:00:00</td>\n",
       "      <td>2016-04-05T23:54:00</td>\n",
       "      <td>ADV</td>\n",
       "      <td>Grant Av/geary St</td>\n",
       "      <td>San Francisco</td>\n",
       "      <td>CA</td>\n",
       "      <td>1</td>\n",
       "      <td>Intersection</td>\n",
       "    </tr>\n",
       "  </tbody>\n",
       "</table>\n",
       "<p>10051 rows × 10 columns</p>\n",
       "</div>"
      ],
      "text/plain": [
       "         CrimeId OriginalCrimeTypeName          OffenseDate  \\\n",
       "0      160903280     Assault / Battery  2016-03-30T00:00:00   \n",
       "1      160912272    Homeless Complaint  2016-03-31T00:00:00   \n",
       "2      160912590             Susp Info  2016-03-31T00:00:00   \n",
       "3      160912801                Report  2016-03-31T00:00:00   \n",
       "4      160912811                   594  2016-03-31T00:00:00   \n",
       "...          ...                   ...                  ...   \n",
       "10046  160964210      Well Being Check  2016-04-05T00:00:00   \n",
       "10047  160964216          Traffic Stop  2016-04-05T00:00:00   \n",
       "10048  160964227          Traffic Stop  2016-04-05T00:00:00   \n",
       "10049  160964229          Passing Call  2016-04-05T00:00:00   \n",
       "10050  160964249          Traffic Stop  2016-04-05T00:00:00   \n",
       "\n",
       "              CallDateTime   Disposition                  Address  \\\n",
       "0      2016-03-30T18:42:00           REP  100 Block Of Chilton Av   \n",
       "1      2016-03-31T15:31:00           GOA  2300 Block Of Market St   \n",
       "2      2016-03-31T16:49:00           GOA  2300 Block Of Market St   \n",
       "3      2016-03-31T17:38:00           GOA      500 Block Of 7th St   \n",
       "4      2016-03-31T17:42:00           REP       Beale St/bryant St   \n",
       "...                    ...           ...                      ...   \n",
       "10046  2016-04-05T23:38:00           GOA    Hollister Av/hawes St   \n",
       "10047  2016-04-05T23:43:00           ADV   California St/mason St   \n",
       "10048  2016-04-05T23:48:00           CIT   Rosella Ct/onondaga Av   \n",
       "10049  2016-04-05T23:48:00  Not recorded          0 Blk Herbst Rd   \n",
       "10050  2016-04-05T23:54:00           ADV        Grant Av/geary St   \n",
       "\n",
       "                City State AgencyId      AddressType  \n",
       "0      San Francisco    CA        1  Premise Address  \n",
       "1      San Francisco    CA        1  Premise Address  \n",
       "2      San Francisco    CA        1  Premise Address  \n",
       "3      San Francisco    CA        1  Premise Address  \n",
       "4      San Francisco    CA        1     Intersection  \n",
       "...              ...   ...      ...              ...  \n",
       "10046  San Francisco    CA        1     Intersection  \n",
       "10047  San Francisco    CA        1     Intersection  \n",
       "10048  San Francisco    CA        1     Intersection  \n",
       "10049  San Francisco    CA        1     Geo-Override  \n",
       "10050  San Francisco    CA        1     Intersection  \n",
       "\n",
       "[10051 rows x 10 columns]"
      ]
     },
     "execution_count": 20,
     "metadata": {},
     "output_type": "execute_result"
    }
   ],
   "source": [
    "'''Eliminación de la columna Range porque contiene 1048 datos nulos'''\n",
    "dataCSV=dataCSV.drop(['Range'],axis=1)\n",
    "'''Eliminación de la columna CallTime porque estos datos ya están en la columna CallDateTime'''\n",
    "dataCSV=dataCSV.drop(['CallTime'],axis=1)\n",
    "dataCSV"
   ]
  },
  {
   "cell_type": "markdown",
   "id": "f96a915e",
   "metadata": {},
   "source": [
    "### Validar que los datos de la columna identificadora sean únicos"
   ]
  },
  {
   "cell_type": "code",
   "execution_count": 21,
   "id": "06f63733",
   "metadata": {},
   "outputs": [
    {
     "data": {
      "text/html": [
       "<div>\n",
       "<style scoped>\n",
       "    .dataframe tbody tr th:only-of-type {\n",
       "        vertical-align: middle;\n",
       "    }\n",
       "\n",
       "    .dataframe tbody tr th {\n",
       "        vertical-align: top;\n",
       "    }\n",
       "\n",
       "    .dataframe thead th {\n",
       "        text-align: right;\n",
       "    }\n",
       "</style>\n",
       "<table border=\"1\" class=\"dataframe\">\n",
       "  <thead>\n",
       "    <tr style=\"text-align: right;\">\n",
       "      <th></th>\n",
       "      <th>CrimeId</th>\n",
       "      <th>OriginalCrimeTypeName</th>\n",
       "      <th>OffenseDate</th>\n",
       "      <th>CallDateTime</th>\n",
       "      <th>Disposition</th>\n",
       "      <th>Address</th>\n",
       "      <th>City</th>\n",
       "      <th>State</th>\n",
       "      <th>AgencyId</th>\n",
       "      <th>AddressType</th>\n",
       "    </tr>\n",
       "  </thead>\n",
       "  <tbody>\n",
       "    <tr>\n",
       "      <th>26</th>\n",
       "      <td>160913455</td>\n",
       "      <td>Vandalism</td>\n",
       "      <td>2016-03-31T00:00:00</td>\n",
       "      <td>2016-03-31T20:53:00</td>\n",
       "      <td>ND</td>\n",
       "      <td>1600 Block Of Sunnydale Av</td>\n",
       "      <td>San Francisco</td>\n",
       "      <td>CA</td>\n",
       "      <td>1</td>\n",
       "      <td>Premise Address</td>\n",
       "    </tr>\n",
       "    <tr>\n",
       "      <th>1707</th>\n",
       "      <td>160913455</td>\n",
       "      <td>Susp</td>\n",
       "      <td>2016-04-01T00:00:00</td>\n",
       "      <td>2016-04-01T18:29:00</td>\n",
       "      <td>GOA</td>\n",
       "      <td>Geary St/larkin St</td>\n",
       "      <td>San Francisco</td>\n",
       "      <td>CA</td>\n",
       "      <td>1</td>\n",
       "      <td>Intersection</td>\n",
       "    </tr>\n",
       "    <tr>\n",
       "      <th>3792</th>\n",
       "      <td>160913455</td>\n",
       "      <td>Passing Call</td>\n",
       "      <td>2016-04-02T00:00:00</td>\n",
       "      <td>2016-04-02T17:11:00</td>\n",
       "      <td>Not recorded</td>\n",
       "      <td>900 Block Of Market St</td>\n",
       "      <td>San Francisco</td>\n",
       "      <td>CA</td>\n",
       "      <td>1</td>\n",
       "      <td>Premise Address</td>\n",
       "    </tr>\n",
       "    <tr>\n",
       "      <th>7045</th>\n",
       "      <td>160950496</td>\n",
       "      <td>Passing Call</td>\n",
       "      <td>2016-04-04T00:00:00</td>\n",
       "      <td>2016-04-04T06:51:00</td>\n",
       "      <td>HAN</td>\n",
       "      <td>University St/felton St</td>\n",
       "      <td>San Francisco</td>\n",
       "      <td>CA</td>\n",
       "      <td>1</td>\n",
       "      <td>Intersection</td>\n",
       "    </tr>\n",
       "    <tr>\n",
       "      <th>7046</th>\n",
       "      <td>160950496</td>\n",
       "      <td>Suspicious Vehicle</td>\n",
       "      <td>2016-04-04T00:00:00</td>\n",
       "      <td>2016-04-04T06:51:00</td>\n",
       "      <td>ND</td>\n",
       "      <td>1400 Block Of Cabrillo St</td>\n",
       "      <td>San Francisco</td>\n",
       "      <td>CA</td>\n",
       "      <td>1</td>\n",
       "      <td>Premise Address</td>\n",
       "    </tr>\n",
       "    <tr>\n",
       "      <th>7047</th>\n",
       "      <td>160950496</td>\n",
       "      <td>Trespasser</td>\n",
       "      <td>2016-04-04T00:00:00</td>\n",
       "      <td>2016-04-04T06:51:00</td>\n",
       "      <td>CAN</td>\n",
       "      <td>Block Of Hampshire St</td>\n",
       "      <td>San Francisco</td>\n",
       "      <td>CA</td>\n",
       "      <td>1</td>\n",
       "      <td>Premise Address</td>\n",
       "    </tr>\n",
       "  </tbody>\n",
       "</table>\n",
       "</div>"
      ],
      "text/plain": [
       "        CrimeId OriginalCrimeTypeName          OffenseDate  \\\n",
       "26    160913455             Vandalism  2016-03-31T00:00:00   \n",
       "1707  160913455                  Susp  2016-04-01T00:00:00   \n",
       "3792  160913455          Passing Call  2016-04-02T00:00:00   \n",
       "7045  160950496          Passing Call  2016-04-04T00:00:00   \n",
       "7046  160950496    Suspicious Vehicle  2016-04-04T00:00:00   \n",
       "7047  160950496            Trespasser  2016-04-04T00:00:00   \n",
       "\n",
       "             CallDateTime   Disposition                     Address  \\\n",
       "26    2016-03-31T20:53:00            ND  1600 Block Of Sunnydale Av   \n",
       "1707  2016-04-01T18:29:00           GOA          Geary St/larkin St   \n",
       "3792  2016-04-02T17:11:00  Not recorded      900 Block Of Market St   \n",
       "7045  2016-04-04T06:51:00           HAN     University St/felton St   \n",
       "7046  2016-04-04T06:51:00            ND   1400 Block Of Cabrillo St   \n",
       "7047  2016-04-04T06:51:00           CAN       Block Of Hampshire St   \n",
       "\n",
       "               City State AgencyId      AddressType  \n",
       "26    San Francisco    CA        1  Premise Address  \n",
       "1707  San Francisco    CA        1     Intersection  \n",
       "3792  San Francisco    CA        1  Premise Address  \n",
       "7045  San Francisco    CA        1     Intersection  \n",
       "7046  San Francisco    CA        1  Premise Address  \n",
       "7047  San Francisco    CA        1  Premise Address  "
      ]
     },
     "execution_count": 21,
     "metadata": {},
     "output_type": "execute_result"
    }
   ],
   "source": [
    "'''Visualización de valores repetidos en la columna Crimeid'''\n",
    "dataCSV[dataCSV.duplicated(subset=['CrimeId'],keep=False)]"
   ]
  },
  {
   "cell_type": "code",
   "execution_count": 22,
   "id": "eddba4de",
   "metadata": {},
   "outputs": [
    {
     "data": {
      "text/plain": [
       "160964249"
      ]
     },
     "execution_count": 22,
     "metadata": {},
     "output_type": "execute_result"
    }
   ],
   "source": [
    "'''valor máximo de la columna Crimeid'''\n",
    "max = dataCSV['CrimeId'].max()\n",
    "max"
   ]
  },
  {
   "cell_type": "code",
   "execution_count": 23,
   "id": "5d10adbf",
   "metadata": {},
   "outputs": [
    {
     "name": "stderr",
     "output_type": "stream",
     "text": [
      "C:\\ProgramData\\Anaconda3\\lib\\site-packages\\pandas\\core\\indexing.py:1732: SettingWithCopyWarning: \n",
      "A value is trying to be set on a copy of a slice from a DataFrame\n",
      "\n",
      "See the caveats in the documentation: https://pandas.pydata.org/pandas-docs/stable/user_guide/indexing.html#returning-a-view-versus-a-copy\n",
      "  self._setitem_single_block(indexer, value, name)\n"
     ]
    },
    {
     "data": {
      "text/plain": [
       "160964255"
      ]
     },
     "execution_count": 23,
     "metadata": {},
     "output_type": "execute_result"
    }
   ],
   "source": [
    "'''Cambio de datos en los valores repetidos de la columna Crimeid y visualización del nuevo valor máximo de la columna'''\n",
    "duplicado = list(dataCSV.index[dataCSV.duplicated(subset=['CrimeId'],keep=False)])\n",
    "duplicado\n",
    "\n",
    "for idx in duplicado:\n",
    "  max += 1\n",
    "  dataCSV['CrimeId'].iloc[idx] = max;\n",
    "'''Verificación del nuevo valor máximo de la columna CrimeId'''\n",
    "max"
   ]
  },
  {
   "cell_type": "markdown",
   "id": "5a3cc08a",
   "metadata": {},
   "source": [
    "### Estandarización de datos"
   ]
  },
  {
   "cell_type": "code",
   "execution_count": 24,
   "id": "e19f04d8",
   "metadata": {},
   "outputs": [],
   "source": [
    "'''Estandarizamos algunos valores existentes en la columna OriginalCrimeTypeName'''\n",
    "dataCSV['OriginalCrimeTypeName'] = dataCSV['OriginalCrimeTypeName'].replace({'***901 Req***': '901 Req',\n",
    "                        '**Tazer**': 'Tazer',\n",
    "                        '*909*': '909',\n",
    "                        '.25/500e':'25/500e',\n",
    "                        '.52':'52',\n",
    "                        '`Drugs':'Drugs',\n",
    "                        'Fi**expedite**':'Fi expedite '})"
   ]
  },
  {
   "cell_type": "code",
   "execution_count": 25,
   "id": "11d2e3f9",
   "metadata": {},
   "outputs": [],
   "source": [
    "'''Abreviación del dato Not Recorded'''\n",
    "dataCSV['Disposition'] = dataCSV['Disposition'].replace('Not recorded','NR')"
   ]
  },
  {
   "cell_type": "code",
   "execution_count": 26,
   "id": "ff4467e1",
   "metadata": {},
   "outputs": [],
   "source": [
    "'''Estandarizamos los valores de la columna City'''\n",
    "dataCSV['City'] = dataCSV['City'].replace(' S','San Francisco')\n",
    "dataCSV['City'] = dataCSV['City'].replace('SAN FRANCISCO','San Francisco')\n",
    "'''Buscamos información en google sobre estas ciudades y rectificamos valores'''\n",
    "dataCSV['City'] = dataCSV['City'].replace('Yerba Buena','San Francisco')\n",
    "dataCSV['City'] = dataCSV['City'].replace('Treasure Isla','Treasure Island')"
   ]
  },
  {
   "cell_type": "code",
   "execution_count": 27,
   "id": "e0542c74",
   "metadata": {},
   "outputs": [],
   "source": [
    "'''Estandarizamos los valores de la columna AddressType'''\n",
    "dataCSV['AddressType'] = dataCSV['AddressType'].replace('Intersectioon','Intersection')"
   ]
  },
  {
   "cell_type": "markdown",
   "id": "7dd7d05b",
   "metadata": {},
   "source": [
    "### Evaluación y determinación del proceso a realizar con filas incoherentes"
   ]
  },
  {
   "cell_type": "code",
   "execution_count": 28,
   "id": "a4fbea45",
   "metadata": {},
   "outputs": [
    {
     "data": {
      "text/html": [
       "<div>\n",
       "<style scoped>\n",
       "    .dataframe tbody tr th:only-of-type {\n",
       "        vertical-align: middle;\n",
       "    }\n",
       "\n",
       "    .dataframe tbody tr th {\n",
       "        vertical-align: top;\n",
       "    }\n",
       "\n",
       "    .dataframe thead th {\n",
       "        text-align: right;\n",
       "    }\n",
       "</style>\n",
       "<table border=\"1\" class=\"dataframe\">\n",
       "  <thead>\n",
       "    <tr style=\"text-align: right;\">\n",
       "      <th></th>\n",
       "      <th>CrimeId</th>\n",
       "      <th>OriginalCrimeTypeName</th>\n",
       "      <th>OffenseDate</th>\n",
       "      <th>CallDateTime</th>\n",
       "      <th>Disposition</th>\n",
       "      <th>Address</th>\n",
       "      <th>City</th>\n",
       "      <th>State</th>\n",
       "      <th>AgencyId</th>\n",
       "      <th>AddressType</th>\n",
       "    </tr>\n",
       "  </thead>\n",
       "  <tbody>\n",
       "    <tr>\n",
       "      <th>5771</th>\n",
       "      <td>160942112</td>\n",
       "      <td>Auto Boost / Strip</td>\n",
       "      <td>2016-04-03T00:00:00</td>\n",
       "      <td>2016-04-03T14:30:00</td>\n",
       "      <td>REP</td>\n",
       "      <td>Martin Luther King Dr/bowling Green Dr</td>\n",
       "      <td>NaN</td>\n",
       "      <td>NaN</td>\n",
       "      <td>CA</td>\n",
       "      <td>1</td>\n",
       "    </tr>\n",
       "    <tr>\n",
       "      <th>8021</th>\n",
       "      <td>160952280</td>\n",
       "      <td>Auto Boost / Strip</td>\n",
       "      <td>2016-04-04T00:00:00</td>\n",
       "      <td>2016-04-04T14:46:00</td>\n",
       "      <td>REP</td>\n",
       "      <td>Martin Luther King Dr/nancy Pelosi Dr</td>\n",
       "      <td>San Francisco</td>\n",
       "      <td>NaN</td>\n",
       "      <td>CA</td>\n",
       "      <td>1</td>\n",
       "    </tr>\n",
       "    <tr>\n",
       "      <th>8473</th>\n",
       "      <td>160953118</td>\n",
       "      <td>Auto Boost / Strip</td>\n",
       "      <td>2016-04-04T00:00:00</td>\n",
       "      <td>2016-04-04T18:11:00</td>\n",
       "      <td>REP</td>\n",
       "      <td>Conservatory Drive E/john F Kennedy Dr</td>\n",
       "      <td>NaN</td>\n",
       "      <td>NaN</td>\n",
       "      <td>CA</td>\n",
       "      <td>1</td>\n",
       "    </tr>\n",
       "  </tbody>\n",
       "</table>\n",
       "</div>"
      ],
      "text/plain": [
       "        CrimeId OriginalCrimeTypeName          OffenseDate  \\\n",
       "5771  160942112    Auto Boost / Strip  2016-04-03T00:00:00   \n",
       "8021  160952280    Auto Boost / Strip  2016-04-04T00:00:00   \n",
       "8473  160953118    Auto Boost / Strip  2016-04-04T00:00:00   \n",
       "\n",
       "             CallDateTime Disposition                                 Address  \\\n",
       "5771  2016-04-03T14:30:00         REP  Martin Luther King Dr/bowling Green Dr   \n",
       "8021  2016-04-04T14:46:00         REP   Martin Luther King Dr/nancy Pelosi Dr   \n",
       "8473  2016-04-04T18:11:00         REP  Conservatory Drive E/john F Kennedy Dr   \n",
       "\n",
       "               City State AgencyId AddressType  \n",
       "5771            NaN   NaN       CA           1  \n",
       "8021  San Francisco   NaN       CA           1  \n",
       "8473            NaN   NaN       CA           1  "
      ]
     },
     "execution_count": 28,
     "metadata": {},
     "output_type": "execute_result"
    }
   ],
   "source": [
    "'''Visualizamos las filas que tienen un AddresType igual a 1'''\n",
    "dataCSV[dataCSV.AddressType == '1']"
   ]
  },
  {
   "cell_type": "code",
   "execution_count": 29,
   "id": "e594c7dc",
   "metadata": {},
   "outputs": [
    {
     "data": {
      "text/html": [
       "<div>\n",
       "<style scoped>\n",
       "    .dataframe tbody tr th:only-of-type {\n",
       "        vertical-align: middle;\n",
       "    }\n",
       "\n",
       "    .dataframe tbody tr th {\n",
       "        vertical-align: top;\n",
       "    }\n",
       "\n",
       "    .dataframe thead th {\n",
       "        text-align: right;\n",
       "    }\n",
       "</style>\n",
       "<table border=\"1\" class=\"dataframe\">\n",
       "  <thead>\n",
       "    <tr style=\"text-align: right;\">\n",
       "      <th></th>\n",
       "      <th>CrimeId</th>\n",
       "      <th>OriginalCrimeTypeName</th>\n",
       "      <th>OffenseDate</th>\n",
       "      <th>CallDateTime</th>\n",
       "      <th>Disposition</th>\n",
       "      <th>Address</th>\n",
       "      <th>City</th>\n",
       "      <th>State</th>\n",
       "      <th>AgencyId</th>\n",
       "      <th>AddressType</th>\n",
       "    </tr>\n",
       "  </thead>\n",
       "  <tbody>\n",
       "    <tr>\n",
       "      <th>5771</th>\n",
       "      <td>160942112</td>\n",
       "      <td>Auto Boost / Strip</td>\n",
       "      <td>2016-04-03T00:00:00</td>\n",
       "      <td>2016-04-03T14:30:00</td>\n",
       "      <td>REP</td>\n",
       "      <td>Martin Luther King Dr/bowling Green Dr</td>\n",
       "      <td>NaN</td>\n",
       "      <td>NaN</td>\n",
       "      <td>CA</td>\n",
       "      <td>1</td>\n",
       "    </tr>\n",
       "    <tr>\n",
       "      <th>8021</th>\n",
       "      <td>160952280</td>\n",
       "      <td>Auto Boost / Strip</td>\n",
       "      <td>2016-04-04T00:00:00</td>\n",
       "      <td>2016-04-04T14:46:00</td>\n",
       "      <td>REP</td>\n",
       "      <td>Martin Luther King Dr/nancy Pelosi Dr</td>\n",
       "      <td>San Francisco</td>\n",
       "      <td>NaN</td>\n",
       "      <td>CA</td>\n",
       "      <td>1</td>\n",
       "    </tr>\n",
       "    <tr>\n",
       "      <th>8473</th>\n",
       "      <td>160953118</td>\n",
       "      <td>Auto Boost / Strip</td>\n",
       "      <td>2016-04-04T00:00:00</td>\n",
       "      <td>2016-04-04T18:11:00</td>\n",
       "      <td>REP</td>\n",
       "      <td>Conservatory Drive E/john F Kennedy Dr</td>\n",
       "      <td>NaN</td>\n",
       "      <td>NaN</td>\n",
       "      <td>CA</td>\n",
       "      <td>1</td>\n",
       "    </tr>\n",
       "  </tbody>\n",
       "</table>\n",
       "</div>"
      ],
      "text/plain": [
       "        CrimeId OriginalCrimeTypeName          OffenseDate  \\\n",
       "5771  160942112    Auto Boost / Strip  2016-04-03T00:00:00   \n",
       "8021  160952280    Auto Boost / Strip  2016-04-04T00:00:00   \n",
       "8473  160953118    Auto Boost / Strip  2016-04-04T00:00:00   \n",
       "\n",
       "             CallDateTime Disposition                                 Address  \\\n",
       "5771  2016-04-03T14:30:00         REP  Martin Luther King Dr/bowling Green Dr   \n",
       "8021  2016-04-04T14:46:00         REP   Martin Luther King Dr/nancy Pelosi Dr   \n",
       "8473  2016-04-04T18:11:00         REP  Conservatory Drive E/john F Kennedy Dr   \n",
       "\n",
       "               City State AgencyId AddressType  \n",
       "5771            NaN   NaN       CA           1  \n",
       "8021  San Francisco   NaN       CA           1  \n",
       "8473            NaN   NaN       CA           1  "
      ]
     },
     "execution_count": 29,
     "metadata": {},
     "output_type": "execute_result"
    }
   ],
   "source": [
    "'''Visualizamos las filas que tienen un AgencyId igual a CA'''\n",
    "dataCSV[dataCSV.AgencyId == 'CA']"
   ]
  },
  {
   "cell_type": "code",
   "execution_count": 30,
   "id": "91ad1c01",
   "metadata": {},
   "outputs": [
    {
     "data": {
      "text/html": [
       "<div>\n",
       "<style scoped>\n",
       "    .dataframe tbody tr th:only-of-type {\n",
       "        vertical-align: middle;\n",
       "    }\n",
       "\n",
       "    .dataframe tbody tr th {\n",
       "        vertical-align: top;\n",
       "    }\n",
       "\n",
       "    .dataframe thead th {\n",
       "        text-align: right;\n",
       "    }\n",
       "</style>\n",
       "<table border=\"1\" class=\"dataframe\">\n",
       "  <thead>\n",
       "    <tr style=\"text-align: right;\">\n",
       "      <th></th>\n",
       "      <th>CrimeId</th>\n",
       "      <th>OriginalCrimeTypeName</th>\n",
       "      <th>OffenseDate</th>\n",
       "      <th>CallDateTime</th>\n",
       "      <th>Disposition</th>\n",
       "      <th>Address</th>\n",
       "      <th>City</th>\n",
       "      <th>State</th>\n",
       "      <th>AgencyId</th>\n",
       "      <th>AddressType</th>\n",
       "    </tr>\n",
       "  </thead>\n",
       "  <tbody>\n",
       "    <tr>\n",
       "      <th>5771</th>\n",
       "      <td>160942112</td>\n",
       "      <td>Auto Boost / Strip</td>\n",
       "      <td>2016-04-03T00:00:00</td>\n",
       "      <td>2016-04-03T14:30:00</td>\n",
       "      <td>REP</td>\n",
       "      <td>Martin Luther King Dr/bowling Green Dr</td>\n",
       "      <td>NaN</td>\n",
       "      <td>NaN</td>\n",
       "      <td>CA</td>\n",
       "      <td>1</td>\n",
       "    </tr>\n",
       "    <tr>\n",
       "      <th>8021</th>\n",
       "      <td>160952280</td>\n",
       "      <td>Auto Boost / Strip</td>\n",
       "      <td>2016-04-04T00:00:00</td>\n",
       "      <td>2016-04-04T14:46:00</td>\n",
       "      <td>REP</td>\n",
       "      <td>Martin Luther King Dr/nancy Pelosi Dr</td>\n",
       "      <td>San Francisco</td>\n",
       "      <td>NaN</td>\n",
       "      <td>CA</td>\n",
       "      <td>1</td>\n",
       "    </tr>\n",
       "    <tr>\n",
       "      <th>8473</th>\n",
       "      <td>160953118</td>\n",
       "      <td>Auto Boost / Strip</td>\n",
       "      <td>2016-04-04T00:00:00</td>\n",
       "      <td>2016-04-04T18:11:00</td>\n",
       "      <td>REP</td>\n",
       "      <td>Conservatory Drive E/john F Kennedy Dr</td>\n",
       "      <td>NaN</td>\n",
       "      <td>NaN</td>\n",
       "      <td>CA</td>\n",
       "      <td>1</td>\n",
       "    </tr>\n",
       "  </tbody>\n",
       "</table>\n",
       "</div>"
      ],
      "text/plain": [
       "        CrimeId OriginalCrimeTypeName          OffenseDate  \\\n",
       "5771  160942112    Auto Boost / Strip  2016-04-03T00:00:00   \n",
       "8021  160952280    Auto Boost / Strip  2016-04-04T00:00:00   \n",
       "8473  160953118    Auto Boost / Strip  2016-04-04T00:00:00   \n",
       "\n",
       "             CallDateTime Disposition                                 Address  \\\n",
       "5771  2016-04-03T14:30:00         REP  Martin Luther King Dr/bowling Green Dr   \n",
       "8021  2016-04-04T14:46:00         REP   Martin Luther King Dr/nancy Pelosi Dr   \n",
       "8473  2016-04-04T18:11:00         REP  Conservatory Drive E/john F Kennedy Dr   \n",
       "\n",
       "               City State AgencyId AddressType  \n",
       "5771            NaN   NaN       CA           1  \n",
       "8021  San Francisco   NaN       CA           1  \n",
       "8473            NaN   NaN       CA           1  "
      ]
     },
     "execution_count": 30,
     "metadata": {},
     "output_type": "execute_result"
    }
   ],
   "source": [
    "'''Visualizamos las filas que tienen un State diferente de CA (sirve hacer mediante el símbolo diferente debido \n",
    "a que solo existen dos valores diferentes)'''\n",
    "dataCSV[dataCSV.State != 'CA']"
   ]
  },
  {
   "cell_type": "code",
   "execution_count": 31,
   "id": "2d9e607d",
   "metadata": {},
   "outputs": [],
   "source": [
    "'''Eliminación de las filas con índice 5771,8021 y 8473 debido a que tienen algunos valores incoherentes \n",
    "en las columnas City, State y AgencyId'''\n",
    "dataCSV=dataCSV.drop(dataCSV.index[[5771,8021,8473]])\n"
   ]
  },
  {
   "cell_type": "markdown",
   "id": "7070f698",
   "metadata": {},
   "source": [
    "### Imputación de datos"
   ]
  },
  {
   "cell_type": "code",
   "execution_count": 32,
   "id": "c4da984f",
   "metadata": {},
   "outputs": [
    {
     "data": {
      "text/plain": [
       "CrimeId                    0\n",
       "OriginalCrimeTypeName      0\n",
       "OffenseDate                0\n",
       "CallDateTime               0\n",
       "Disposition                0\n",
       "Address                    0\n",
       "City                     319\n",
       "State                      0\n",
       "AgencyId                   0\n",
       "AddressType                0\n",
       "dtype: int64"
      ]
     },
     "execution_count": 32,
     "metadata": {},
     "output_type": "execute_result"
    }
   ],
   "source": [
    "'''Visualización de valores nulos del dataframe'''\n",
    "dataCSV.isnull().sum()"
   ]
  },
  {
   "cell_type": "code",
   "execution_count": 33,
   "id": "3f995dea",
   "metadata": {},
   "outputs": [],
   "source": [
    "''' Para cambiar esos valores nulos de la columna City por valores un poco más reales procedemos a imputar los valores \n",
    "mediante la moda de los datos gracias al método SimpleImputer '''\n",
    "imputer_mf = SimpleImputer(strategy='most_frequent', missing_values=np.nan)\n",
    "''' A continuación se procede a entrenar mediante el método fit a la columna City'''\n",
    "imputer_mf= imputer_mf.fit(dataCSV[['City']])\n",
    "''' Posteriormente se procede a aplicar estos cambios mediante el método tranform y guardarlos la misma columna'''\n",
    "dataCSV['City']=imputer_mf.transform(dataCSV[['City']])\n"
   ]
  },
  {
   "cell_type": "markdown",
   "id": "1757663b",
   "metadata": {},
   "source": [
    "### Transformación del tipo de datos"
   ]
  },
  {
   "cell_type": "code",
   "execution_count": 34,
   "id": "16bbf71b",
   "metadata": {},
   "outputs": [],
   "source": [
    "'''Anteriormente se había visualizado que el tipo de datos en CallDateTime y en OffenseDate eran de tipo objetos, por lo cual\n",
    "se procede a cambiar a tipo fecha debido a que son datos de fechas'''\n",
    "dataCSV['CallDateTime'] = pd.to_datetime(dataCSV['CallDateTime'], errors='coerce')\n",
    "dataCSV['OffenseDate'] = pd.to_datetime(dataCSV['OffenseDate'], errors='coerce')\n",
    "''' En la columna AgencyId también tenia el tipo de dato de objetos, por lo cual\n",
    "se procede a cambiar a tipo numérico debido a que son datos de números'''\n",
    "dataCSV['AgencyId'] = pd.to_numeric(dataCSV['AgencyId'], errors='coerce')\n"
   ]
  },
  {
   "cell_type": "markdown",
   "id": "bdbe6f3a",
   "metadata": {},
   "source": [
    "# Visualización de cambios realizados"
   ]
  },
  {
   "cell_type": "code",
   "execution_count": 35,
   "id": "99fcb7f3",
   "metadata": {},
   "outputs": [
    {
     "data": {
      "text/plain": [
       "CrimeId                  0\n",
       "OriginalCrimeTypeName    0\n",
       "OffenseDate              0\n",
       "CallDateTime             0\n",
       "Disposition              0\n",
       "Address                  0\n",
       "City                     0\n",
       "State                    0\n",
       "AgencyId                 0\n",
       "AddressType              0\n",
       "dtype: int64"
      ]
     },
     "execution_count": 35,
     "metadata": {},
     "output_type": "execute_result"
    }
   ],
   "source": [
    "'''Verificación de datos nulos'''\n",
    "dataCSV.isnull().sum()"
   ]
  },
  {
   "cell_type": "code",
   "execution_count": 36,
   "id": "16eebac5",
   "metadata": {},
   "outputs": [
    {
     "data": {
      "text/plain": [
       "CrimeId                           int64\n",
       "OriginalCrimeTypeName            object\n",
       "OffenseDate              datetime64[ns]\n",
       "CallDateTime             datetime64[ns]\n",
       "Disposition                      object\n",
       "Address                          object\n",
       "City                             object\n",
       "State                            object\n",
       "AgencyId                          int64\n",
       "AddressType                      object\n",
       "dtype: object"
      ]
     },
     "execution_count": 36,
     "metadata": {},
     "output_type": "execute_result"
    }
   ],
   "source": [
    "'''Verificación de los tipos de datos'''\n",
    "dataCSV.dtypes"
   ]
  },
  {
   "cell_type": "code",
   "execution_count": 37,
   "id": "47e771ac",
   "metadata": {
    "scrolled": true
   },
   "outputs": [
    {
     "data": {
      "text/html": [
       "<div>\n",
       "<style scoped>\n",
       "    .dataframe tbody tr th:only-of-type {\n",
       "        vertical-align: middle;\n",
       "    }\n",
       "\n",
       "    .dataframe tbody tr th {\n",
       "        vertical-align: top;\n",
       "    }\n",
       "\n",
       "    .dataframe thead th {\n",
       "        text-align: right;\n",
       "    }\n",
       "</style>\n",
       "<table border=\"1\" class=\"dataframe\">\n",
       "  <thead>\n",
       "    <tr style=\"text-align: right;\">\n",
       "      <th></th>\n",
       "      <th>CrimeId</th>\n",
       "      <th>OriginalCrimeTypeName</th>\n",
       "      <th>OffenseDate</th>\n",
       "      <th>CallDateTime</th>\n",
       "      <th>Disposition</th>\n",
       "      <th>Address</th>\n",
       "      <th>City</th>\n",
       "      <th>State</th>\n",
       "      <th>AgencyId</th>\n",
       "      <th>AddressType</th>\n",
       "    </tr>\n",
       "  </thead>\n",
       "  <tbody>\n",
       "  </tbody>\n",
       "</table>\n",
       "</div>"
      ],
      "text/plain": [
       "Empty DataFrame\n",
       "Columns: [CrimeId, OriginalCrimeTypeName, OffenseDate, CallDateTime, Disposition, Address, City, State, AgencyId, AddressType]\n",
       "Index: []"
      ]
     },
     "execution_count": 37,
     "metadata": {},
     "output_type": "execute_result"
    }
   ],
   "source": [
    "'''Verificación de que ya no existan valores repetidos en la columna Crimeid'''\n",
    "dataCSV[dataCSV.duplicated(subset=['CrimeId'],keep=False)]"
   ]
  },
  {
   "cell_type": "code",
   "execution_count": 38,
   "id": "09f3cc6a",
   "metadata": {},
   "outputs": [
    {
     "data": {
      "text/plain": [
       "array(['San Francisco', 'Daly City', 'Treasure Island', 'Presidio',\n",
       "       'Brisbane'], dtype=object)"
      ]
     },
     "execution_count": 38,
     "metadata": {},
     "output_type": "execute_result"
    }
   ],
   "source": [
    "'''Visualización de valores únicos en la columna City'''\n",
    "dataCSV.City.unique()"
   ]
  },
  {
   "cell_type": "code",
   "execution_count": 39,
   "id": "91df05d8",
   "metadata": {},
   "outputs": [
    {
     "data": {
      "text/plain": [
       "array(['Premise Address', 'Intersection', 'Common Location',\n",
       "       'Geo-Override'], dtype=object)"
      ]
     },
     "execution_count": 39,
     "metadata": {},
     "output_type": "execute_result"
    }
   ],
   "source": [
    "'''Visualización de valores únicos en la columna AddressType'''\n",
    "dataCSV.AddressType.unique()"
   ]
  },
  {
   "cell_type": "code",
   "execution_count": 40,
   "id": "67bc3328",
   "metadata": {},
   "outputs": [
    {
     "data": {
      "text/plain": [
       "array(['CA'], dtype=object)"
      ]
     },
     "execution_count": 40,
     "metadata": {},
     "output_type": "execute_result"
    }
   ],
   "source": [
    "'''Visualización de valores únicos en la columna State'''\n",
    "dataCSV.State.unique()"
   ]
  },
  {
   "cell_type": "code",
   "execution_count": 41,
   "id": "eff4d2a3",
   "metadata": {},
   "outputs": [
    {
     "data": {
      "text/html": [
       "<div>\n",
       "<style scoped>\n",
       "    .dataframe tbody tr th:only-of-type {\n",
       "        vertical-align: middle;\n",
       "    }\n",
       "\n",
       "    .dataframe tbody tr th {\n",
       "        vertical-align: top;\n",
       "    }\n",
       "\n",
       "    .dataframe thead th {\n",
       "        text-align: right;\n",
       "    }\n",
       "</style>\n",
       "<table border=\"1\" class=\"dataframe\">\n",
       "  <thead>\n",
       "    <tr style=\"text-align: right;\">\n",
       "      <th></th>\n",
       "      <th>CrimeId</th>\n",
       "      <th>OriginalCrimeTypeName</th>\n",
       "      <th>OffenseDate</th>\n",
       "      <th>CallDateTime</th>\n",
       "      <th>Disposition</th>\n",
       "      <th>Address</th>\n",
       "      <th>City</th>\n",
       "      <th>State</th>\n",
       "      <th>AgencyId</th>\n",
       "      <th>AddressType</th>\n",
       "    </tr>\n",
       "  </thead>\n",
       "  <tbody>\n",
       "  </tbody>\n",
       "</table>\n",
       "</div>"
      ],
      "text/plain": [
       "Empty DataFrame\n",
       "Columns: [CrimeId, OriginalCrimeTypeName, OffenseDate, CallDateTime, Disposition, Address, City, State, AgencyId, AddressType]\n",
       "Index: []"
      ]
     },
     "execution_count": 41,
     "metadata": {},
     "output_type": "execute_result"
    }
   ],
   "source": [
    "'''Verificación de que se hayan eliminado las 3 filas con datos erroneos'''\n",
    "dataCSV[dataCSV.State != 'CA']"
   ]
  },
  {
   "cell_type": "markdown",
   "id": "ddbdc3e4",
   "metadata": {},
   "source": [
    "<center><h1 style=\"color: red\">Carga</h1></center>"
   ]
  },
  {
   "cell_type": "markdown",
   "id": "fab89135",
   "metadata": {},
   "source": [
    "### Exportación de dataset en diferentes formatos y lectura de archivos generados"
   ]
  },
  {
   "cell_type": "code",
   "execution_count": 42,
   "id": "03f12794",
   "metadata": {},
   "outputs": [
    {
     "data": {
      "text/html": [
       "<div>\n",
       "<style scoped>\n",
       "    .dataframe tbody tr th:only-of-type {\n",
       "        vertical-align: middle;\n",
       "    }\n",
       "\n",
       "    .dataframe tbody tr th {\n",
       "        vertical-align: top;\n",
       "    }\n",
       "\n",
       "    .dataframe thead th {\n",
       "        text-align: right;\n",
       "    }\n",
       "</style>\n",
       "<table border=\"1\" class=\"dataframe\">\n",
       "  <thead>\n",
       "    <tr style=\"text-align: right;\">\n",
       "      <th></th>\n",
       "      <th>CrimeId</th>\n",
       "      <th>OriginalCrimeTypeName</th>\n",
       "      <th>OffenseDate</th>\n",
       "      <th>CallDateTime</th>\n",
       "      <th>Disposition</th>\n",
       "      <th>Address</th>\n",
       "      <th>City</th>\n",
       "      <th>State</th>\n",
       "      <th>AgencyId</th>\n",
       "      <th>AddressType</th>\n",
       "    </tr>\n",
       "  </thead>\n",
       "  <tbody>\n",
       "    <tr>\n",
       "      <th>0</th>\n",
       "      <td>160903280</td>\n",
       "      <td>Assault / Battery</td>\n",
       "      <td>1459296000000</td>\n",
       "      <td>1459363320000</td>\n",
       "      <td>REP</td>\n",
       "      <td>100 Block Of Chilton Av</td>\n",
       "      <td>San Francisco</td>\n",
       "      <td>CA</td>\n",
       "      <td>1</td>\n",
       "      <td>Premise Address</td>\n",
       "    </tr>\n",
       "    <tr>\n",
       "      <th>1</th>\n",
       "      <td>160912272</td>\n",
       "      <td>Homeless Complaint</td>\n",
       "      <td>1459382400000</td>\n",
       "      <td>1459438260000</td>\n",
       "      <td>GOA</td>\n",
       "      <td>2300 Block Of Market St</td>\n",
       "      <td>San Francisco</td>\n",
       "      <td>CA</td>\n",
       "      <td>1</td>\n",
       "      <td>Premise Address</td>\n",
       "    </tr>\n",
       "    <tr>\n",
       "      <th>2</th>\n",
       "      <td>160912590</td>\n",
       "      <td>Susp Info</td>\n",
       "      <td>1459382400000</td>\n",
       "      <td>1459442940000</td>\n",
       "      <td>GOA</td>\n",
       "      <td>2300 Block Of Market St</td>\n",
       "      <td>San Francisco</td>\n",
       "      <td>CA</td>\n",
       "      <td>1</td>\n",
       "      <td>Premise Address</td>\n",
       "    </tr>\n",
       "    <tr>\n",
       "      <th>3</th>\n",
       "      <td>160912801</td>\n",
       "      <td>Report</td>\n",
       "      <td>1459382400000</td>\n",
       "      <td>1459445880000</td>\n",
       "      <td>GOA</td>\n",
       "      <td>500 Block Of 7th St</td>\n",
       "      <td>San Francisco</td>\n",
       "      <td>CA</td>\n",
       "      <td>1</td>\n",
       "      <td>Premise Address</td>\n",
       "    </tr>\n",
       "    <tr>\n",
       "      <th>4</th>\n",
       "      <td>160912811</td>\n",
       "      <td>594</td>\n",
       "      <td>1459382400000</td>\n",
       "      <td>1459446120000</td>\n",
       "      <td>REP</td>\n",
       "      <td>Beale St/bryant St</td>\n",
       "      <td>San Francisco</td>\n",
       "      <td>CA</td>\n",
       "      <td>1</td>\n",
       "      <td>Intersection</td>\n",
       "    </tr>\n",
       "    <tr>\n",
       "      <th>...</th>\n",
       "      <td>...</td>\n",
       "      <td>...</td>\n",
       "      <td>...</td>\n",
       "      <td>...</td>\n",
       "      <td>...</td>\n",
       "      <td>...</td>\n",
       "      <td>...</td>\n",
       "      <td>...</td>\n",
       "      <td>...</td>\n",
       "      <td>...</td>\n",
       "    </tr>\n",
       "    <tr>\n",
       "      <th>10043</th>\n",
       "      <td>160964210</td>\n",
       "      <td>Well Being Check</td>\n",
       "      <td>1459814400000</td>\n",
       "      <td>1459899480000</td>\n",
       "      <td>GOA</td>\n",
       "      <td>Hollister Av/hawes St</td>\n",
       "      <td>San Francisco</td>\n",
       "      <td>CA</td>\n",
       "      <td>1</td>\n",
       "      <td>Intersection</td>\n",
       "    </tr>\n",
       "    <tr>\n",
       "      <th>10044</th>\n",
       "      <td>160964216</td>\n",
       "      <td>Traffic Stop</td>\n",
       "      <td>1459814400000</td>\n",
       "      <td>1459899780000</td>\n",
       "      <td>ADV</td>\n",
       "      <td>California St/mason St</td>\n",
       "      <td>San Francisco</td>\n",
       "      <td>CA</td>\n",
       "      <td>1</td>\n",
       "      <td>Intersection</td>\n",
       "    </tr>\n",
       "    <tr>\n",
       "      <th>10045</th>\n",
       "      <td>160964227</td>\n",
       "      <td>Traffic Stop</td>\n",
       "      <td>1459814400000</td>\n",
       "      <td>1459900080000</td>\n",
       "      <td>CIT</td>\n",
       "      <td>Rosella Ct/onondaga Av</td>\n",
       "      <td>San Francisco</td>\n",
       "      <td>CA</td>\n",
       "      <td>1</td>\n",
       "      <td>Intersection</td>\n",
       "    </tr>\n",
       "    <tr>\n",
       "      <th>10046</th>\n",
       "      <td>160964229</td>\n",
       "      <td>Passing Call</td>\n",
       "      <td>1459814400000</td>\n",
       "      <td>1459900080000</td>\n",
       "      <td>NR</td>\n",
       "      <td>0 Blk Herbst Rd</td>\n",
       "      <td>San Francisco</td>\n",
       "      <td>CA</td>\n",
       "      <td>1</td>\n",
       "      <td>Geo-Override</td>\n",
       "    </tr>\n",
       "    <tr>\n",
       "      <th>10047</th>\n",
       "      <td>160964249</td>\n",
       "      <td>Traffic Stop</td>\n",
       "      <td>1459814400000</td>\n",
       "      <td>1459900440000</td>\n",
       "      <td>ADV</td>\n",
       "      <td>Grant Av/geary St</td>\n",
       "      <td>San Francisco</td>\n",
       "      <td>CA</td>\n",
       "      <td>1</td>\n",
       "      <td>Intersection</td>\n",
       "    </tr>\n",
       "  </tbody>\n",
       "</table>\n",
       "<p>10048 rows × 10 columns</p>\n",
       "</div>"
      ],
      "text/plain": [
       "         CrimeId OriginalCrimeTypeName    OffenseDate   CallDateTime  \\\n",
       "0      160903280     Assault / Battery  1459296000000  1459363320000   \n",
       "1      160912272    Homeless Complaint  1459382400000  1459438260000   \n",
       "2      160912590             Susp Info  1459382400000  1459442940000   \n",
       "3      160912801                Report  1459382400000  1459445880000   \n",
       "4      160912811                   594  1459382400000  1459446120000   \n",
       "...          ...                   ...            ...            ...   \n",
       "10043  160964210      Well Being Check  1459814400000  1459899480000   \n",
       "10044  160964216          Traffic Stop  1459814400000  1459899780000   \n",
       "10045  160964227          Traffic Stop  1459814400000  1459900080000   \n",
       "10046  160964229          Passing Call  1459814400000  1459900080000   \n",
       "10047  160964249          Traffic Stop  1459814400000  1459900440000   \n",
       "\n",
       "      Disposition                  Address           City State  AgencyId  \\\n",
       "0             REP  100 Block Of Chilton Av  San Francisco    CA         1   \n",
       "1             GOA  2300 Block Of Market St  San Francisco    CA         1   \n",
       "2             GOA  2300 Block Of Market St  San Francisco    CA         1   \n",
       "3             GOA      500 Block Of 7th St  San Francisco    CA         1   \n",
       "4             REP       Beale St/bryant St  San Francisco    CA         1   \n",
       "...           ...                      ...            ...   ...       ...   \n",
       "10043         GOA    Hollister Av/hawes St  San Francisco    CA         1   \n",
       "10044         ADV   California St/mason St  San Francisco    CA         1   \n",
       "10045         CIT   Rosella Ct/onondaga Av  San Francisco    CA         1   \n",
       "10046          NR          0 Blk Herbst Rd  San Francisco    CA         1   \n",
       "10047         ADV        Grant Av/geary St  San Francisco    CA         1   \n",
       "\n",
       "           AddressType  \n",
       "0      Premise Address  \n",
       "1      Premise Address  \n",
       "2      Premise Address  \n",
       "3      Premise Address  \n",
       "4         Intersection  \n",
       "...                ...  \n",
       "10043     Intersection  \n",
       "10044     Intersection  \n",
       "10045     Intersection  \n",
       "10046     Geo-Override  \n",
       "10047     Intersection  \n",
       "\n",
       "[10048 rows x 10 columns]"
      ]
     },
     "execution_count": 42,
     "metadata": {},
     "output_type": "execute_result"
    }
   ],
   "source": [
    "'''Exportación del dataframe final en archivos de formato CSV y JSON.\n",
    "Lectura del formato JSON recién exportado'''\n",
    "dataCSV.to_csv('data_act_01_Formateada.csv', sep=',', index=False, header=True)\n",
    "dataCSV.to_json('data_act_01_pFormateada.json', orient='records', lines=True)\n",
    "dfJSON=pd.read_json(\"data_act_01_pFormateada.json\", orient='records', lines=True)\n",
    "'''Verificamos que el formato JSON sea legible y esté todo en orden'''\n",
    "dfJSON"
   ]
  },
  {
   "cell_type": "code",
   "execution_count": 43,
   "id": "121ec757",
   "metadata": {},
   "outputs": [
    {
     "data": {
      "text/plain": [
       "CrimeId                  0\n",
       "OriginalCrimeTypeName    0\n",
       "OffenseDate              0\n",
       "CallDateTime             0\n",
       "Disposition              0\n",
       "Address                  0\n",
       "City                     0\n",
       "State                    0\n",
       "AgencyId                 0\n",
       "AddressType              0\n",
       "dtype: int64"
      ]
     },
     "execution_count": 43,
     "metadata": {},
     "output_type": "execute_result"
    }
   ],
   "source": [
    "'''Visualización de datos nulos en el formato JSON cargado'''\n",
    "dfJSON.isnull().sum()"
   ]
  },
  {
   "cell_type": "code",
   "execution_count": null,
   "id": "614a461f",
   "metadata": {},
   "outputs": [],
   "source": []
  }
 ],
 "metadata": {
  "kernelspec": {
   "display_name": "Python 3 (ipykernel)",
   "language": "python",
   "name": "python3"
  },
  "language_info": {
   "codemirror_mode": {
    "name": "ipython",
    "version": 3
   },
   "file_extension": ".py",
   "mimetype": "text/x-python",
   "name": "python",
   "nbconvert_exporter": "python",
   "pygments_lexer": "ipython3",
   "version": "3.9.7"
  }
 },
 "nbformat": 4,
 "nbformat_minor": 5
}
